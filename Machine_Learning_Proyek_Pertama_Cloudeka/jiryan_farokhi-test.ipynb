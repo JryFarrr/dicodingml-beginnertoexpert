{
 "cells": [
  {
   "cell_type": "code",
   "execution_count": 1,
   "metadata": {},
   "outputs": [],
   "source": [
    "#import library\n",
    "import requests\n",
    "import pandas as pd\n",
    "import tensorflow as tf\n",
    "import json\n",
    "import base64"
   ]
  },
  {
   "cell_type": "code",
   "execution_count": 2,
   "metadata": {},
   "outputs": [],
   "source": [
    "#laod dataset yang akan digunakan untuk test\n",
    "data = pd.read_csv('Data\\sentiment.csv')"
   ]
  },
  {
   "cell_type": "code",
   "execution_count": 3,
   "metadata": {},
   "outputs": [
    {
     "data": {
      "text/html": [
       "<div>\n",
       "<style scoped>\n",
       "    .dataframe tbody tr th:only-of-type {\n",
       "        vertical-align: middle;\n",
       "    }\n",
       "\n",
       "    .dataframe tbody tr th {\n",
       "        vertical-align: top;\n",
       "    }\n",
       "\n",
       "    .dataframe thead th {\n",
       "        text-align: right;\n",
       "    }\n",
       "</style>\n",
       "<table border=\"1\" class=\"dataframe\">\n",
       "  <thead>\n",
       "    <tr style=\"text-align: right;\">\n",
       "      <th></th>\n",
       "      <th>reviews_content</th>\n",
       "      <th>new_category</th>\n",
       "    </tr>\n",
       "  </thead>\n",
       "  <tbody>\n",
       "    <tr>\n",
       "      <th>0</th>\n",
       "      <td>airplane ! is considered among many to be the ...</td>\n",
       "      <td>1</td>\n",
       "    </tr>\n",
       "    <tr>\n",
       "      <th>1</th>\n",
       "      <td>you've got to love disney . \\nno matter what t...</td>\n",
       "      <td>1</td>\n",
       "    </tr>\n",
       "    <tr>\n",
       "      <th>2</th>\n",
       "      <td>\" the tailor of panama \" is a different kind ...</td>\n",
       "      <td>1</td>\n",
       "    </tr>\n",
       "    <tr>\n",
       "      <th>3</th>\n",
       "      <td>the characters in jonathan lynn's \" the whole ...</td>\n",
       "      <td>0</td>\n",
       "    </tr>\n",
       "    <tr>\n",
       "      <th>4</th>\n",
       "      <td>vikings v . bears ? \\nno , this isn't the line...</td>\n",
       "      <td>0</td>\n",
       "    </tr>\n",
       "    <tr>\n",
       "      <th>...</th>\n",
       "      <td>...</td>\n",
       "      <td>...</td>\n",
       "    </tr>\n",
       "    <tr>\n",
       "      <th>1495</th>\n",
       "      <td>trekkies , roger nygard's energetic and hilari...</td>\n",
       "      <td>1</td>\n",
       "    </tr>\n",
       "    <tr>\n",
       "      <th>1496</th>\n",
       "      <td>\" dangerous beauty \" is a really nothing more...</td>\n",
       "      <td>1</td>\n",
       "    </tr>\n",
       "    <tr>\n",
       "      <th>1497</th>\n",
       "      <td>starring shawnee smith ; donovan leitch ; rick...</td>\n",
       "      <td>0</td>\n",
       "    </tr>\n",
       "    <tr>\n",
       "      <th>1498</th>\n",
       "      <td>man , this was one wierd movie . \\nsimilar to ...</td>\n",
       "      <td>0</td>\n",
       "    </tr>\n",
       "    <tr>\n",
       "      <th>1499</th>\n",
       "      <td>review : ghost dog : the way of the samurai ( ...</td>\n",
       "      <td>1</td>\n",
       "    </tr>\n",
       "  </tbody>\n",
       "</table>\n",
       "<p>1500 rows × 2 columns</p>\n",
       "</div>"
      ],
      "text/plain": [
       "                                        reviews_content  new_category\n",
       "0     airplane ! is considered among many to be the ...             1\n",
       "1     you've got to love disney . \\nno matter what t...             1\n",
       "2      \" the tailor of panama \" is a different kind ...             1\n",
       "3     the characters in jonathan lynn's \" the whole ...             0\n",
       "4     vikings v . bears ? \\nno , this isn't the line...             0\n",
       "...                                                 ...           ...\n",
       "1495  trekkies , roger nygard's energetic and hilari...             1\n",
       "1496   \" dangerous beauty \" is a really nothing more...             1\n",
       "1497  starring shawnee smith ; donovan leitch ; rick...             0\n",
       "1498  man , this was one wierd movie . \\nsimilar to ...             0\n",
       "1499  review : ghost dog : the way of the samurai ( ...             1\n",
       "\n",
       "[1500 rows x 2 columns]"
      ]
     },
     "execution_count": 3,
     "metadata": {},
     "output_type": "execute_result"
    }
   ],
   "source": [
    "data"
   ]
  },
  {
   "cell_type": "code",
   "execution_count": 4,
   "metadata": {},
   "outputs": [
    {
     "data": {
      "text/plain": [
       "0       airplane ! is considered among many to be the ...\n",
       "1       you've got to love disney . \\nno matter what t...\n",
       "2        \" the tailor of panama \" is a different kind ...\n",
       "3       the characters in jonathan lynn's \" the whole ...\n",
       "4       vikings v . bears ? \\nno , this isn't the line...\n",
       "                              ...                        \n",
       "1495    trekkies , roger nygard's energetic and hilari...\n",
       "1496     \" dangerous beauty \" is a really nothing more...\n",
       "1497    starring shawnee smith ; donovan leitch ; rick...\n",
       "1498    man , this was one wierd movie . \\nsimilar to ...\n",
       "1499    review : ghost dog : the way of the samurai ( ...\n",
       "Name: reviews_content, Length: 1500, dtype: object"
      ]
     },
     "execution_count": 4,
     "metadata": {},
     "output_type": "execute_result"
    }
   ],
   "source": [
    "data['reviews_content']"
   ]
  },
  {
   "cell_type": "code",
   "execution_count": 5,
   "metadata": {},
   "outputs": [
    {
     "data": {
      "text/plain": [
       "'airplane ! is considered among many to be the epitome of satire film-making . \\nafter all , it\\'s brought to us by one of the best known satire writing/directing teams . \\neven if most people don\\'t recognize the names behind the films , they are bound to recognize the titles : airplane ! , top secret , the naked gun , and hot shots to name a few . \\nbut although the zucker/abrahams/zucker team was first introduced with the kentucky fried movie in 1977 , airplane ! \\nremains the true cornerstone of their work , and their directorial debuts . \\nin the seventies , disaster films seemed to be at an all time high . \\nfilms like earthquake , the towering inferno , and the poseidon adventure were big hits . \\nthere was also a series about the disasters that can arise when traveling by plane - a series that spanned the entire decade . \\nand so , in 1980 , we were introduced to a new airplane disaster film . \\nthis time the disaster had nothing to do with a maniacal hijacker or crashing into the ocean . \\n . \\n . \\nit had to do with bad fish . \\nairplane ! is the story of ted striker ( robert hays ) - an ex-fighter-pilot who has never gotten over the fact that a decision he had to make in the midst of war led to the death of six , er , seven comrades . \\nunable to stop living in the past , ted\\'s world fell apart . \\nhe spent his time moving from city to city without ever having a stable job , and eventually , as we begin this film , is getting dumped by his lover , flight attendant elaine dickinson ( julie hagerty ) . \\nin a desperate attempt not to lose her , ted buys a ticket for the same flight elaine is working . \\nunfortunately , she is unsympathetic and even criticizes ted for following her , which leaves him wallowing in self-pity . \\nin the midst of it all , something happens . \\nsomeone gets sick . \\nthen another . \\nthen another . \\nsoon , the whole plane is full of deathly-ill chicago-bound people . \\n . \\n . \\nand when the pilots get sick ( played by peter graves , kareem abdul-jabbar , and frank ashmore ) , who will save the day ? \\n ( gee , i wonder ) \\nof course the main draw here is the non-stop \" whiz-bang \" comedy , with a hefty dose of both visual and spoken gags . \\nalthough i had seen this movie a few times before , i was still laughing thru the entire thing . \\nthe most fun character by far is the doctor , played by leslie nielsen . \\nhe\\'s a dry , subtle , sterotypically straight-faced doctor that ends up saying some of the funniest lines of the film . \\nin a film like this , you\\'re not really expecting an elaborate production , so one can\\'t complain about the amateurish quality . \\nwhat you can complain about is the absolutely annoying johnny , played by stephen stucker . \\nthis character is pointless , nauseating , and very unfunny . \\ni don\\'t know why he was put in there , and i don\\'t think anybody will find a good excuse . \\nand when the film nears an end , it slows down quite a bit , almost getting old . \\nyou gotta give it to a movie that only runs 88 minutes and can feel two hours long . \\naside from that , airplane ! \\nis really a top-notch spoof that will likely forever be known as a spoof classic . \\nit would be a good choice to pop in the vcr with a group of friends , especially if they haven\\'t seen it . \\nand if they ask what the plot is , just tell \\'em \" it\\'s a synopsis of the basic storyline of the film , but that\\'s not important right now . \" \\nif you\\'ve seen the film , you\\'ll understand ; - ) \\n'"
      ]
     },
     "execution_count": 5,
     "metadata": {},
     "output_type": "execute_result"
    }
   ],
   "source": [
    "reviews = data['reviews_content'][0]\n",
    "\n",
    "reviews"
   ]
  },
  {
   "cell_type": "code",
   "execution_count": 30,
   "metadata": {},
   "outputs": [
    {
     "name": "stdout",
     "output_type": "stream",
     "text": [
      "Error: No predictions found in response.\n"
     ]
    }
   ],
   "source": [
    "def prepare_json(text):\n",
    "    feature_spec = {\n",
    "        \"reviews_content\": tf.train.Feature(bytes_list=tf.train.BytesList(value=[bytes(text, \"utf-8\")])),\n",
    "    }\n",
    "    \n",
    "    example = tf.train.Example(\n",
    "        features=tf.train.Features(feature=feature_spec)\n",
    "    ).SerializeToString()\n",
    "    \n",
    "    result = [\n",
    "        {\n",
    "            \"examples\": {\n",
    "                \"b64\": base64.b64encode(example).decode()\n",
    "            }\n",
    "        }\n",
    "    ]\n",
    "    \n",
    "    return json.dumps({\n",
    "        \"signature_name\": \"serving_default\",\n",
    "        \"instances\": result\n",
    "    })\n",
    "\n",
    "json_data = prepare_json(reviews)\n",
    "\n",
    "\n",
    "    \n",
    "endpoint = \"http://localhost:8080/v1/models/sentiments-detection-model:predict\"\n",
    "response = requests.post(endpoint, data=json_data)\n",
    "\n",
    "prediction = response.json().get(\"predictions\")\n",
    "if prediction:\n",
    "    prediction_value = prediction[0][0]\n",
    "    result = \"positive\" if prediction_value > 0.6 else \"negative\"\n",
    "else:\n",
    "    result = \"Error: No predictions found in response.\"\n",
    "\n",
    "print(result)"
   ]
  },
  {
   "cell_type": "code",
   "execution_count": null,
   "metadata": {},
   "outputs": [],
   "source": []
  }
 ],
 "metadata": {
  "kernelspec": {
   "display_name": "mlops-tfx",
   "language": "python",
   "name": "python3"
  },
  "language_info": {
   "codemirror_mode": {
    "name": "ipython",
    "version": 3
   },
   "file_extension": ".py",
   "mimetype": "text/x-python",
   "name": "python",
   "nbconvert_exporter": "python",
   "pygments_lexer": "ipython3",
   "version": "3.9.15"
  }
 },
 "nbformat": 4,
 "nbformat_minor": 2
}
