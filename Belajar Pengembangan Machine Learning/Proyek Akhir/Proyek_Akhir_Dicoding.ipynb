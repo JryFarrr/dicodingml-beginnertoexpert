{
  "nbformat": 4,
  "nbformat_minor": 0,
  "metadata": {
    "colab": {
      "provenance": []
    },
    "kernelspec": {
      "name": "python3",
      "display_name": "Python 3"
    },
    "language_info": {
      "name": "python"
    }
  },
  "cells": [
    {
      "cell_type": "code",
      "execution_count": 3,
      "metadata": {
        "id": "UB_XlUCaDBz_"
      },
      "outputs": [],
      "source": [
        "# Nama : JIRYAN FAROKHI\n",
        "# Email : jiryanfarokhi@gmail.com\n",
        "# Domisili : Surabaya"
      ]
    },
    {
      "cell_type": "code",
      "source": [
        "# Warnings Remove\n",
        "import warnings\n",
        "warnings.filterwarnings(\"ignore\")\n",
        "#Import Os and Basis Libraries\n",
        "import cv2\n",
        "import os\n",
        "import pandas as pd\n",
        "import numpy as np\n",
        "from tensorflow.keras.callbacks import ModelCheckpoint\n",
        "import seaborn as sns\n",
        "import matplotlib.pyplot as plt\n",
        "#Matplot Images\n",
        "import matplotlib.image as mpimg\n",
        "from sklearn.model_selection import train_test_split\n",
        "# Tensflor and Keras Layer and Model and Optimize and Loss\n",
        "import tensorflow as tf\n",
        "from tensorflow import keras\n",
        "from keras import Sequential\n",
        "from keras.layers import *\n",
        "from tensorflow.keras.losses import BinaryCrossentropy\n",
        "#Kernel Intilizer\n",
        "from tensorflow.keras.initializers import he_normal\n",
        "# import tensorflow_hub as hub\n",
        "from tensorflow.keras.optimizers import Adam\n",
        "#PreTrained Model VGG16\n",
        "from tensorflow.keras.applications import ResNet50\n",
        "from tensorflow.keras.applications import Xception\n",
        "#Image Generator DataAugmentation\n",
        "from keras.preprocessing.image import ImageDataGenerator\n",
        "from keras.preprocessing import image\n",
        "#Early Stopping\n",
        "from tensorflow.keras.callbacks import EarlyStopping\n",
        "import zipfile\n",
        "import pathlib\n",
        "# import splitfolders"
      ],
      "metadata": {
        "id": "XBgPlU0JDOEv"
      },
      "execution_count": 4,
      "outputs": []
    },
    {
      "cell_type": "code",
      "source": [
        "!chmod 600 /content/kaggle.json"
      ],
      "metadata": {
        "id": "Tj5B2uV8DP0G"
      },
      "execution_count": 6,
      "outputs": []
    },
    {
      "cell_type": "code",
      "source": [
        "!KAGGLE_CONFIG_DIR=/content/ kaggle datasets download -d hasibalmuzdadid/shoe-vs-sandal-vs-boot-dataset-15k-images"
      ],
      "metadata": {
        "colab": {
          "base_uri": "https://localhost:8080/"
        },
        "id": "OtUhZ2WbEYpu",
        "outputId": "a61ede18-ecf6-4b89-edc0-9597ff18750f"
      },
      "execution_count": 7,
      "outputs": [
        {
          "output_type": "stream",
          "name": "stdout",
          "text": [
            "Downloading shoe-vs-sandal-vs-boot-dataset-15k-images.zip to /content\n",
            " 87% 41.0M/47.0M [00:00<00:00, 68.7MB/s]\n",
            "100% 47.0M/47.0M [00:00<00:00, 72.9MB/s]\n"
          ]
        }
      ]
    },
    {
      "cell_type": "code",
      "source": [
        "zip_file = zipfile.ZipFile('/content/shoe-vs-sandal-vs-boot-dataset-15k-images.zip', 'r')\n",
        "zip_file.extractall('/tmp')\n",
        "zip_file.close()\n",
        "\n",
        "base_dir = '/tmp/images'\n",
        "train_dir = os.path.join(base_dir, 'train')\n",
        "validation_dir = os.path.join(base_dir, 'val')"
      ],
      "metadata": {
        "id": "m0HjV33CV-bJ"
      },
      "execution_count": 8,
      "outputs": []
    },
    {
      "cell_type": "code",
      "source": [
        "dir = \"/tmp/Shoe_vs_Sandal_vs_Boot_Dataset\""
      ],
      "metadata": {
        "id": "yft3qFzrWApF"
      },
      "execution_count": 9,
      "outputs": []
    },
    {
      "cell_type": "code",
      "source": [
        "train_datagen = ImageDataGenerator(\n",
        "    rescale = 1./255,\n",
        "    rotation_range = 25,\n",
        "    horizontal_flip = True,\n",
        "    shear_range = 0.2,\n",
        "    fill_mode = 'wrap',\n",
        "    validation_split = 0.2\n",
        ")"
      ],
      "metadata": {
        "id": "uC4mjUB0VB9y"
      },
      "execution_count": 10,
      "outputs": []
    },
    {
      "cell_type": "code",
      "source": [
        "validation_datagen = ImageDataGenerator(\n",
        "    rescale = 1./255,\n",
        "    validation_split=0.2\n",
        ")"
      ],
      "metadata": {
        "id": "rm54VK0eVzeL"
      },
      "execution_count": 11,
      "outputs": []
    },
    {
      "cell_type": "code",
      "source": [
        "train_generator = train_datagen.flow_from_directory(\n",
        "    dir,\n",
        "    target_size = (128,128),\n",
        "    shuffle = True,\n",
        "    subset = 'training',\n",
        "    batch_size = 32\n",
        ")\n",
        "\n",
        "validation_generator = validation_datagen.flow_from_directory(\n",
        "    dir,\n",
        "    target_size= (128,128),\n",
        "    subset = 'validation',\n",
        "    batch_size = 32\n",
        ")"
      ],
      "metadata": {
        "colab": {
          "base_uri": "https://localhost:8080/"
        },
        "id": "dzY6Q5ygV1eu",
        "outputId": "aa39aa75-161a-49fe-a0c5-28b2b14ba375"
      },
      "execution_count": 12,
      "outputs": [
        {
          "output_type": "stream",
          "name": "stdout",
          "text": [
            "Found 12000 images belonging to 3 classes.\n",
            "Found 3000 images belonging to 3 classes.\n"
          ]
        }
      ]
    },
    {
      "cell_type": "code",
      "source": [
        "model_2 = Sequential(name=\"jiryan_CNN\")\n",
        "\n",
        "model_2.add(Conv2D(64, kernel_size=(3,3), padding ='same', activation ='relu', kernel_initializer=he_normal(), input_shape = (128,128, 3), name ='CONV_Layer1'))\n",
        "model_2.add(MaxPooling2D(pool_size=(2,2), padding = 'same'))\n",
        "model_2.add(BatchNormalization())\n",
        "model_2.add(Conv2D(32, kernel_size = (3,3), padding = 'same', activation ='relu', kernel_initializer= he_normal(), name = 'CONV_Layer2'))\n",
        "model_2.add(MaxPooling2D(pool_size = (2, 2), padding = 'same'))\n",
        "model_2.add(BatchNormalization())\n",
        "model_2.add(Dropout(0, 40))\n",
        "\n",
        "model_2.add(Conv2D(32, kernel_size = (3, 3), padding = 'same', activation = 'relu', kernel_initializer = he_normal(), name = 'CONV_Layer3'))\n",
        "model_2.add(MaxPooling2D(pool_size = (2,2), padding = 'same'))\n",
        "model_2.add(BatchNormalization())\n",
        "\n",
        "model_2.add(Dropout(0,40))\n",
        "\n",
        "model_2.add(Flatten(name = 'Flatten'))\n",
        "\n",
        "model_2.add(Dense(220, activation = 'relu', kernel_initializer = he_normal(), name = 'FullyConnected1'))\n",
        "model_2.add(Dense(64, activation = 'relu'))\n",
        "\n",
        "model_2.add(Dense(3, activation = 'softmax', kernel_initializer = he_normal(), name = 'OutputLayer'))\n",
        "\n",
        "model_2.summary()"
      ],
      "metadata": {
        "colab": {
          "base_uri": "https://localhost:8080/"
        },
        "id": "RjCU4jJImRK-",
        "outputId": "b1d60a55-968e-4471-cf01-9c5cfce6b068"
      },
      "execution_count": 13,
      "outputs": [
        {
          "output_type": "stream",
          "name": "stdout",
          "text": [
            "Model: \"jiryan_CNN\"\n",
            "_________________________________________________________________\n",
            " Layer (type)                Output Shape              Param #   \n",
            "=================================================================\n",
            " CONV_Layer1 (Conv2D)        (None, 128, 128, 64)      1792      \n",
            "                                                                 \n",
            " max_pooling2d (MaxPooling2  (None, 64, 64, 64)        0         \n",
            " D)                                                              \n",
            "                                                                 \n",
            " batch_normalization (Batch  (None, 64, 64, 64)        256       \n",
            " Normalization)                                                  \n",
            "                                                                 \n",
            " CONV_Layer2 (Conv2D)        (None, 64, 64, 32)        18464     \n",
            "                                                                 \n",
            " max_pooling2d_1 (MaxPoolin  (None, 32, 32, 32)        0         \n",
            " g2D)                                                            \n",
            "                                                                 \n",
            " batch_normalization_1 (Bat  (None, 32, 32, 32)        128       \n",
            " chNormalization)                                                \n",
            "                                                                 \n",
            " dropout (Dropout)           (None, 32, 32, 32)        0         \n",
            "                                                                 \n",
            " CONV_Layer3 (Conv2D)        (None, 32, 32, 32)        9248      \n",
            "                                                                 \n",
            " max_pooling2d_2 (MaxPoolin  (None, 16, 16, 32)        0         \n",
            " g2D)                                                            \n",
            "                                                                 \n",
            " batch_normalization_2 (Bat  (None, 16, 16, 32)        128       \n",
            " chNormalization)                                                \n",
            "                                                                 \n",
            " dropout_1 (Dropout)         (None, 16, 16, 32)        0         \n",
            "                                                                 \n",
            " Flatten (Flatten)           (None, 8192)              0         \n",
            "                                                                 \n",
            " FullyConnected1 (Dense)     (None, 220)               1802460   \n",
            "                                                                 \n",
            " dense (Dense)               (None, 64)                14144     \n",
            "                                                                 \n",
            " OutputLayer (Dense)         (None, 3)                 195       \n",
            "                                                                 \n",
            "=================================================================\n",
            "Total params: 1846815 (7.05 MB)\n",
            "Trainable params: 1846559 (7.04 MB)\n",
            "Non-trainable params: 256 (1.00 KB)\n",
            "_________________________________________________________________\n"
          ]
        }
      ]
    },
    {
      "cell_type": "code",
      "source": [
        "model_2.compile(loss='categorical_crossentropy',\n",
        "              optimizer=tf.optimizers.Adam(),\n",
        "              metrics=['accuracy'])"
      ],
      "metadata": {
        "id": "PbGFAIKce9cp"
      },
      "execution_count": 14,
      "outputs": []
    },
    {
      "cell_type": "code",
      "source": [
        "checkpoint_callback = ModelCheckpoint('best_model.h5', save_best_only=True, monitor='val_loss')\n",
        "early_stopping_callback = EarlyStopping(min_delta = 0.001, patience=5, restore_best_weights=True, monitor='val_loss')"
      ],
      "metadata": {
        "id": "7cqOLxLRjB2M"
      },
      "execution_count": 15,
      "outputs": []
    },
    {
      "cell_type": "code",
      "source": [
        "history = model_2.fit(\n",
        "    train_generator,\n",
        "    steps_per_epoch=33,\n",
        "    epochs=50,\n",
        "    validation_steps=5,\n",
        "    validation_data=validation_generator,\n",
        "    callbacks=[checkpoint_callback, early_stopping_callback]\n",
        ")"
      ],
      "metadata": {
        "colab": {
          "base_uri": "https://localhost:8080/"
        },
        "id": "f968iPObkwlL",
        "outputId": "18528c25-0148-4b3b-c4a8-317795c6918a"
      },
      "execution_count": 16,
      "outputs": [
        {
          "output_type": "stream",
          "name": "stdout",
          "text": [
            "Epoch 1/50\n",
            "33/33 [==============================] - 55s 2s/step - loss: 0.9117 - accuracy: 0.6392 - val_loss: 2.7500 - val_accuracy: 0.3750\n",
            "Epoch 2/50\n",
            "33/33 [==============================] - 52s 2s/step - loss: 0.5282 - accuracy: 0.7907 - val_loss: 1.5970 - val_accuracy: 0.4125\n",
            "Epoch 3/50\n",
            "33/33 [==============================] - 52s 2s/step - loss: 0.3856 - accuracy: 0.8532 - val_loss: 0.6662 - val_accuracy: 0.7063\n",
            "Epoch 4/50\n",
            "33/33 [==============================] - 52s 2s/step - loss: 0.3702 - accuracy: 0.8551 - val_loss: 0.6319 - val_accuracy: 0.7188\n",
            "Epoch 5/50\n",
            "33/33 [==============================] - 51s 2s/step - loss: 0.3923 - accuracy: 0.8693 - val_loss: 0.5174 - val_accuracy: 0.7812\n",
            "Epoch 6/50\n",
            "33/33 [==============================] - 52s 2s/step - loss: 0.3054 - accuracy: 0.8930 - val_loss: 0.3800 - val_accuracy: 0.8438\n",
            "Epoch 7/50\n",
            "33/33 [==============================] - 51s 2s/step - loss: 0.2592 - accuracy: 0.8987 - val_loss: 0.2331 - val_accuracy: 0.9250\n",
            "Epoch 8/50\n",
            "33/33 [==============================] - 52s 2s/step - loss: 0.2825 - accuracy: 0.8996 - val_loss: 0.4040 - val_accuracy: 0.8125\n",
            "Epoch 9/50\n",
            "33/33 [==============================] - 52s 2s/step - loss: 0.2263 - accuracy: 0.9157 - val_loss: 0.4083 - val_accuracy: 0.8375\n",
            "Epoch 10/50\n",
            "33/33 [==============================] - 52s 2s/step - loss: 0.2403 - accuracy: 0.9119 - val_loss: 0.1677 - val_accuracy: 0.9438\n",
            "Epoch 11/50\n",
            "33/33 [==============================] - 52s 2s/step - loss: 0.2438 - accuracy: 0.9091 - val_loss: 0.1739 - val_accuracy: 0.9250\n",
            "Epoch 12/50\n",
            "33/33 [==============================] - 51s 2s/step - loss: 0.2018 - accuracy: 0.9223 - val_loss: 0.2800 - val_accuracy: 0.9000\n",
            "Epoch 13/50\n",
            "33/33 [==============================] - 53s 2s/step - loss: 0.2277 - accuracy: 0.9034 - val_loss: 0.2765 - val_accuracy: 0.8938\n",
            "Epoch 14/50\n",
            "33/33 [==============================] - 51s 2s/step - loss: 0.2181 - accuracy: 0.9110 - val_loss: 0.1344 - val_accuracy: 0.9375\n",
            "Epoch 15/50\n",
            "33/33 [==============================] - 52s 2s/step - loss: 0.2055 - accuracy: 0.9290 - val_loss: 0.2960 - val_accuracy: 0.9000\n",
            "Epoch 16/50\n",
            "33/33 [==============================] - 51s 2s/step - loss: 0.1695 - accuracy: 0.9356 - val_loss: 0.2334 - val_accuracy: 0.9500\n",
            "Epoch 17/50\n",
            "33/33 [==============================] - 51s 2s/step - loss: 0.1836 - accuracy: 0.9384 - val_loss: 0.2133 - val_accuracy: 0.9250\n",
            "Epoch 18/50\n",
            "33/33 [==============================] - 59s 2s/step - loss: 0.1904 - accuracy: 0.9290 - val_loss: 0.1498 - val_accuracy: 0.9625\n",
            "Epoch 19/50\n",
            "33/33 [==============================] - 48s 1s/step - loss: 0.1945 - accuracy: 0.9214 - val_loss: 0.2343 - val_accuracy: 0.9500\n"
          ]
        }
      ]
    },
    {
      "cell_type": "code",
      "source": [
        "# Menyimpan model dalam format SavedModel\n",
        "export_dir = 'saved_model/'\n",
        "tf.saved_model.save(model_2, export_dir)\n",
        "\n",
        "# Convert SavedModel menjadi vegs.tflite\n",
        "converter = tf.lite.TFLiteConverter.from_saved_model(export_dir)\n",
        "tflite_model = converter.convert()\n",
        "\n",
        "tflite_model_file = pathlib.Path('vegs.tflite')\n",
        "tflite_model_file.write_bytes(tflite_model)"
      ],
      "metadata": {
        "id": "7v9Tt9UkotDz",
        "colab": {
          "base_uri": "https://localhost:8080/"
        },
        "outputId": "6363903c-bd15-4048-ba6d-aff8a515ce33"
      },
      "execution_count": 17,
      "outputs": [
        {
          "output_type": "execute_result",
          "data": {
            "text/plain": [
              "7392708"
            ]
          },
          "metadata": {},
          "execution_count": 17
        }
      ]
    },
    {
      "cell_type": "code",
      "source": [
        "plt.subplot(1, 2, 1)\n",
        "plt.plot(history.history['loss'], label='Train Loss')\n",
        "plt.plot(history.history['val_loss'], label='Validation Loss')\n",
        "plt.title('Loss Plot')\n",
        "plt.xlabel('Epoch')\n",
        "plt.ylabel('Loss')\n",
        "plt.legend()"
      ],
      "metadata": {
        "id": "KrxC1_Y6kyXp",
        "colab": {
          "base_uri": "https://localhost:8080/",
          "height": 489
        },
        "outputId": "1664aedc-8a18-49e2-d928-bc7d328ff339"
      },
      "execution_count": 18,
      "outputs": [
        {
          "output_type": "execute_result",
          "data": {
            "text/plain": [
              "<matplotlib.legend.Legend at 0x7a899e1ddc00>"
            ]
          },
          "metadata": {},
          "execution_count": 18
        },
        {
          "output_type": "display_data",
          "data": {
            "text/plain": [
              "<Figure size 640x480 with 1 Axes>"
            ],
            "image/png": "[encoded data removed]"
          },
          "metadata": {}
        }
      ]
    },
    {
      "cell_type": "code",
      "source": [
        "plt.plot(history.history['accuracy'], label='Training Accuracy')\n",
        "plt.plot(history.history['val_accuracy'], label='Validation Accuracy')\n",
        "plt.title('Model Accuracy')\n",
        "plt.xlabel('Epoch')\n",
        "plt.ylabel('Accuracy')\n",
        "plt.legend()\n",
        "plt.grid(True)\n",
        "plt.show()"
      ],
      "metadata": {
        "colab": {
          "base_uri": "https://localhost:8080/",
          "height": 472
        },
        "id": "m5Kr4va-1TdC",
        "outputId": "6b839e25-51cc-4d04-889e-cccd701087ca"
      },
      "execution_count": 19,
      "outputs": [
        {
          "output_type": "display_data",
          "data": {
            "text/plain": [
              "<Figure size 640x480 with 1 Axes>"
            ],
            "image/png": "[encoded data removed]"
          },
          "metadata": {}
        }
      ]
    },
    {
      "cell_type": "code",
      "source": [],
      "metadata": {
        "id": "nN52VdgIE3oA"
      },
      "execution_count": null,
      "outputs": []
    }
  ]
}